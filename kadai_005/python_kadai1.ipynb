{
  "cells": [
    {
      "cell_type": "code",
      "source": [
        "johen = 10\n",
        "kahen = 20\n",
        "takasa = 5\n",
        "\n",
        "kai = ( johen + kahen ) * takasa / 2\n",
        "\n",
        "print(f\"{kai}cm²\" )"
      ],
      "metadata": {
        "id": "lA4pVcTEP8Y5",
        "outputId": "7c3e86f9-ce1e-4122-ba49-f85b06000385",
        "colab": {
          "base_uri": "https://localhost:8080/"
        }
      },
      "execution_count": null,
      "outputs": [
        {
          "output_type": "stream",
          "name": "stdout",
          "text": [
            "75.0cm²\n"
          ]
        }
      ]
    }
  ],
  "metadata": {
    "colab": {
      "provenance": []
    },
    "kernelspec": {
      "display_name": "Python 3",
      "name": "python3"
    }
  },
  "nbformat": 4,
  "nbformat_minor": 0
}