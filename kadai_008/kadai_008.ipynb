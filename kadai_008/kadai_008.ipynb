{
  "nbformat": 4,
  "nbformat_minor": 0,
  "metadata": {
    "colab": {
      "provenance": []
    },
    "kernelspec": {
      "name": "python3",
      "display_name": "Python 3"
    },
    "language_info": {
      "name": "python"
    }
  },
  "cells": [
    {
      "cell_type": "code",
      "execution_count": 29,
      "metadata": {
        "colab": {
          "base_uri": "https://localhost:8080/"
        },
        "id": "2uH6tjja3v33",
        "outputId": "7148b3da-c87a-4847-9c68-35732d58cc3e"
      },
      "outputs": [
        {
          "output_type": "stream",
          "name": "stdout",
          "text": [
            "5\n",
            "Buzz\n"
          ]
        }
      ],
      "source": [
        "import random\n",
        "\n",
        "var = random.randint(0, 30)\n",
        "print(var)\n",
        "\n",
        "if var%3 == 0 and var%5 == 0:\n",
        "  print(\"FizzBuzz\")\n",
        "\n",
        "elif var%3 == 0:\n",
        "  print(\"Fizz\")\n",
        "\n",
        "elif var%5 == 0:\n",
        "  print(\"Buzz\")\n",
        "\n",
        "else :\n",
        "  print(var)"
      ]
    }
  ]
}