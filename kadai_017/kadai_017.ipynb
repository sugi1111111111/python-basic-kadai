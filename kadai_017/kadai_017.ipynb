{
  "nbformat": 4,
  "nbformat_minor": 0,
  "metadata": {
    "colab": {
      "provenance": []
    },
    "kernelspec": {
      "name": "python3",
      "display_name": "Python 3"
    },
    "language_info": {
      "name": "python"
    }
  },
  "cells": [
    {
      "cell_type": "code",
      "execution_count": 7,
      "metadata": {
        "colab": {
          "base_uri": "https://localhost:8080/"
        },
        "id": "to31xqQaLQoK",
        "outputId": "44b6dbef-385d-4e9d-fb46-9fd08e843a89"
      },
      "outputs": [
        {
          "output_type": "stream",
          "name": "stdout",
          "text": [
            "太郎大人です\n",
            "花子大人ではありません\n"
          ]
        }
      ],
      "source": [
        "class Human:\n",
        "  def __init__(self, name, age):\n",
        "    self.name = name\n",
        "    self.age = age\n",
        "\n",
        "  def check_adult(self):\n",
        "    if self.age >= 20:\n",
        "      print(f\"{self.name}大人です\")\n",
        "    else:\n",
        "      print(f\"{self.name}大人ではありません\")\n",
        "\n",
        "user1 = Human(\"太郎\", 36)\n",
        "user2 = Human(\"花子\", 13)\n",
        "\n",
        "users =[user1, user2]\n",
        "\n",
        "for user in users:\n",
        "  user.check_adult()\n"
      ]
    }
  ]
}